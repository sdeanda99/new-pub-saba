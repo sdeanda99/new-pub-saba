{
 "cells": [
  {
   "cell_type": "markdown",
   "id": "63b29327-f471-4377-a3b3-f400030a6361",
   "metadata": {},
   "source": [
    " Data Science Tools and Ecosystem"
   ]
  },
  {
   "cell_type": "markdown",
   "id": "6f8e2d93-9e91-4883-aa3c-e2ca75da2917",
   "metadata": {},
   "source": [
    "In this notebook, Data Science Tools and Ecosystem are summarized."
   ]
  },
  {
   "cell_type": "markdown",
   "id": "e3be2e51-d5de-45ac-b164-2cf36a794b0e",
   "metadata": {},
   "source": [
    "Some of the popular languages that Data Scientists use are:\n",
    "SQL,Python and R "
   ]
  },
  {
   "cell_type": "markdown",
   "id": "3f9858aa-5f04-4ac9-8271-4abc40f83e3d",
   "metadata": {},
   "source": [
    "Some of the commonly used libraries used by Data Scientists include:\n",
    "NumPy, Pandas, PyTorch\n"
   ]
  },
  {
   "cell_type": "markdown",
   "id": "48b5fac0-42b1-4baa-9fcf-01e94f64f157",
   "metadata": {},
   "source": [
    "Some of the commonly used libraries used by Data Scientists include:\n",
    "\n",
    "| Tool              | Description                                     |\n",
    "|-------------------|-------------------------------------------------|\n",
    "| Python            | Versatile language with extensive libraries      |\n",
    "| R                 | Statistical computing and data analysis          |\n",
    "| SQL               | Query language for working with databases       |\n",
    "| Julia             | High-performance language for technical computing|\n",
    "\n"
   ]
  },
  {
   "cell_type": "markdown",
   "id": "bb15e1b4-18a9-4013-8d1b-d733f48a2e14",
   "metadata": {},
   "source": [
    "Below are a few examples of evaluating arithmetic expressions in Python:\n",
    "\n",
    "result = 2 + 3 * 4\n",
    "print(result)\n",
    "\n",
    "result = eval(\"2 + 3 * 4\")\n",
    "print(result)\n",
    "\n",
    "result = math.sin(math.pi / 2)\n",
    "print(result)"
   ]
  },
  {
   "cell_type": "code",
   "execution_count": 1,
   "id": "7d4ec94a-0a02-47e3-b879-8d76cd9cadc2",
   "metadata": {
    "tags": []
   },
   "outputs": [
    {
     "data": {
      "text/plain": [
       "17"
      ]
     },
     "execution_count": 1,
     "metadata": {},
     "output_type": "execute_result"
    }
   ],
   "source": [
    "# This is a simple arithmetic expression to multiply then add integers\n",
    "result = (3 * 4) + 5\n",
    "result\n"
   ]
  },
  {
   "cell_type": "code",
   "execution_count": 2,
   "id": "20cd0a10-cf18-4cef-aed5-82b72dfbad56",
   "metadata": {
    "tags": []
   },
   "outputs": [
    {
     "data": {
      "text/plain": [
       "3.3333333333333335"
      ]
     },
     "execution_count": 2,
     "metadata": {},
     "output_type": "execute_result"
    }
   ],
   "source": [
    "# This will convert 200 minutes to hours by dividing by 60\n",
    "hours = 200 / 60\n",
    "hours\n"
   ]
  },
  {
   "cell_type": "markdown",
   "id": "7ddcca93-fc21-43ea-8d04-2533c1b88da3",
   "metadata": {},
   "source": [
    "**Objectives**:\n",
    "\n",
    "- List popular languages for Data Science\n",
    "- Introduce commonly used libraries by Data Scientists\n",
    "- Explain how to evaluate arithmetic expressions in Python\n"
   ]
  },
  {
   "cell_type": "markdown",
   "id": "7e80113f-dfe0-4a0a-afe0-facae9f1f683",
   "metadata": {},
   "source": [
    "##Author\n",
    "Sebastian De Anda"
   ]
  },
  {
   "cell_type": "code",
   "execution_count": null,
   "id": "6baa4fd9-e006-4630-aca1-c6c3e9f34867",
   "metadata": {},
   "outputs": [],
   "source": []
  }
 ],
 "metadata": {
  "kernelspec": {
   "display_name": "Python",
   "language": "python",
   "name": "conda-env-python-py"
  },
  "language_info": {
   "codemirror_mode": {
    "name": "ipython",
    "version": 3
   },
   "file_extension": ".py",
   "mimetype": "text/x-python",
   "name": "python",
   "nbconvert_exporter": "python",
   "pygments_lexer": "ipython3",
   "version": "3.7.12"
  },
  "toc-autonumbering": true,
  "toc-showcode": true,
  "toc-showmarkdowntxt": false
 },
 "nbformat": 4,
 "nbformat_minor": 5
}
